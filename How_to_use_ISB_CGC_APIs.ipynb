{
  "nbformat": 4,
  "nbformat_minor": 0,
  "metadata": {
    "colab": {
      "name": "How_to_use_ISB-CGC_APIs.ipynb",
      "provenance": [],
      "collapsed_sections": []
    },
    "kernelspec": {
      "name": "python3",
      "display_name": "Python 3"
    }
  },
  "cells": [
    {
      "cell_type": "markdown",
      "metadata": {
        "id": "sM4TB7pp-4Xp",
        "colab_type": "text"
      },
      "source": [
        "# ISB-CGC Community Notebooks\n",
        "\n",
        "```\n",
        "Title:   How to Use ISB-CGC APIs\n",
        "Author:  Lauren Hagen\n",
        "Created: 2019-09-16\n",
        "Purpose: Introduction to using ISB-CGC APIs with Python\n",
        "```\n"
      ]
    },
    {
      "cell_type": "markdown",
      "metadata": {
        "id": "zfnyQon4OSmi",
        "colab_type": "text"
      },
      "source": [
        "# How to Use ISB-CGC APIs"
      ]
    },
    {
      "cell_type": "markdown",
      "metadata": {
        "id": "jEhcHLyfNoZF",
        "colab_type": "text"
      },
      "source": [
        "## Overview of Notebook\n",
        "This notebook is designed as a quick introduction to the ISB-CGC APIs and how to access them with Python.\n",
        "\n",
        "Topic Covered:\n",
        "* Overviews of APIs, Swagger, JSON, endpoints\n",
        "* Use Cases for ISB-CGC APIs\n",
        "* Examples of ISB-CGC API endpoints\n"
      ]
    },
    {
      "cell_type": "markdown",
      "metadata": {
        "id": "xKMj6vYXNS9v",
        "colab_type": "text"
      },
      "source": [
        "## About ISB-CGC APIs\n",
        "ISB-CGC has created several APIs to interact with ISB-CGC and user data available on Google Cloud Platforms. They were created with Google’s OpenAPI Endpoints and can be accessed through a [SwaggerUI interface](https://api-dot-isb-cgc.appspot.com/v4/swagger/). For more information on ISB-CGC APIs, please visit [our documentation](https://isb-cancer-genomics-cloud.readthedocs.io/en/latest/sections/progapi/progAPI-v4/Programmatic-Demo.html)."
      ]
    },
    {
      "cell_type": "markdown",
      "metadata": {
        "id": "Mnkz-GYtNXG8",
        "colab_type": "text"
      },
      "source": [
        "### Overview of APIs\n",
        "An API or application-programming interface is a software intermediary that allows two applications to talk to each other. In other words, an API is the messenger that delivers your request to the provider that you’re requesting it from and then delivers the response back to you. [(Wikipedia)](https://en.wikipedia.org/wiki/Application_programming_interface). Each action that an API can take is called an \"endpoint\".\n",
        "\n",
        "Some useful tutorials and quick start guides on APIs are:\n",
        "* [GDC's Getting Started guide for APIs](https://docs.gdc.cancer.gov/API/Users_Guide/Getting_Started/)\n",
        "* [API Integration in Python](https://realpython.com/api-integration-in-python/)\n",
        "* [Python API Tutorial: Getting Started with APIs](https://www.dataquest.io/blog/python-api-tutorial/)"
      ]
    },
    {
      "cell_type": "markdown",
      "metadata": {
        "id": "d8EpGT1_NfaV",
        "colab_type": "text"
      },
      "source": [
        "### What is SwaggerUI?\n",
        "\n",
        "[SwaggerUI](https://swagger.io/tools/swagger-ui/) is a user interface that allows users to try out the APIs and view their documentation easiely. A tutorial on how to use the ISB-CGC APIs on the SwaggerUI can be found [here](https://isb-cancer-genomics-cloud.readthedocs.io/en/latest/sections/progapi/progAPI-v4/Programmatic-Demo.html#apis-demo)."
      ]
    },
    {
      "cell_type": "markdown",
      "metadata": {
        "id": "d70M_3VBNjTN",
        "colab_type": "text"
      },
      "source": [
        "### What is JSON?\n",
        "\n",
        "JSON  or JavaScript Object Notation is a lightweight data-interchange format that is easy for humans and machines to work with. More information can be found at [json.org](https://www.json.org/)."
      ]
    },
    {
      "cell_type": "markdown",
      "metadata": {
        "id": "XRajgslw_iUt",
        "colab_type": "text"
      },
      "source": [
        "### What is an endpoint?\n",
        "\n",
        "An endpoint is the *call* for a specific functionally of an API. For example, `programs` at the end of the API request URL `https://api-dot-isb-cgc.appspot.com/v4/programs` is an endpoint that returns (or GETs) information about the available programs."
      ]
    },
    {
      "cell_type": "markdown",
      "metadata": {
        "id": "3k8fV64qOCnY",
        "colab_type": "text"
      },
      "source": [
        "### Python library `requests`\n",
        "\n",
        "In order to use the ISB-CGC APIs with python, the `requests` library needs to be installed and then imported."
      ]
    },
    {
      "cell_type": "code",
      "metadata": {
        "id": "3goCNgQW-wgS",
        "colab_type": "code",
        "colab": {}
      },
      "source": [
        "# Install requests if needed\n",
        "# pip install requests\n",
        "\n",
        "# Import the requests library\n",
        "import requests"
      ],
      "execution_count": 0,
      "outputs": []
    },
    {
      "cell_type": "markdown",
      "metadata": {
        "id": "9wMMTcuuNlkt",
        "colab_type": "text"
      },
      "source": [
        "## Use cases for ISB-CGC APIs\n",
        "\n",
        "The ISB-CGC APIs can be used for an number of different tasks for interacting with the Google Cloud Platform and BigQuery. It can be used to subset data into cohorts or to access cohorts that have been created using the WebApp. It can also be used to interact with the user's GCP to retrieve available user projects along with registering projects with ISB-CGC."
      ]
    },
    {
      "cell_type": "markdown",
      "metadata": {
        "id": "JpGspd-bNrJl",
        "colab_type": "text"
      },
      "source": [
        "## Example: `about` Endpoint\n",
        "\n"
      ]
    },
    {
      "cell_type": "markdown",
      "metadata": {
        "id": "OPCsbygUb_EW",
        "colab_type": "text"
      },
      "source": [
        "We are first going to explore the `about` endpoint using the 'get' request to the API. This API will give you information about the ISB-CGC API such a link to the Swagger UI interface and the documentation."
      ]
    },
    {
      "cell_type": "code",
      "metadata": {
        "id": "LNGPVvHwHSnl",
        "colab_type": "code",
        "colab": {}
      },
      "source": [
        "# First submit the 'get' request to the API\n",
        "about_req = requests.get('https://api-dot-isb-cgc.appspot.com/v4/about')"
      ],
      "execution_count": 0,
      "outputs": []
    },
    {
      "cell_type": "markdown",
      "metadata": {
        "id": "0KuvDe63dOjK",
        "colab_type": "text"
      },
      "source": [
        "Now that we have the request response, we are going to check that we didn't recieve an error code or if the request was successful. If the request was successful, then the status code will come back as 200 but if something went wrong then the status code may be something 404 or 503. If you have recieved any error codes, you can check out Google's [Troubleshooting response errors guide](https://cloud.google.com/endpoints/docs/openapi/troubleshoot-response-errors)."
      ]
    },
    {
      "cell_type": "code",
      "metadata": {
        "id": "-qMcWo6peb6e",
        "colab_type": "code",
        "colab": {}
      },
      "source": [
        "# Check that the wasn't an error with the request\n",
        "if about_req.status_code != 200:\n",
        "  # Print the error code if something went wrong\n",
        "  print(about_req.status_code)"
      ],
      "execution_count": 0,
      "outputs": []
    },
    {
      "cell_type": "markdown",
      "metadata": {
        "id": "etcXVRH9gvch",
        "colab_type": "text"
      },
      "source": [
        "Finally, we will print out the information that we have recieved from the API. This response returns as a dictionary though responses can also be a combination of dictionaries and lists depending on which endpoint is called. This means that you can access different data in the response the same way that you would access dictionaries and lists as demonstarted below."
      ]
    },
    {
      "cell_type": "code",
      "metadata": {
        "id": "keNiLV68hLnj",
        "colab_type": "code",
        "outputId": "dc669b1c-9cce-49d7-b531-f6e7ae4742cd",
        "colab": {
          "base_uri": "https://localhost:8080/",
          "height": 224
        }
      },
      "source": [
        "# Print the full response\n",
        "print(\"Full response:\\n\")\n",
        "print(about_req.json(), end='\\n\\n')\n",
        "\n",
        "# Print the message portion of the response\n",
        "print(\"Message:\\n\")\n",
        "print(about_req.json()['message'], end='\\n\\n')\n",
        "\n",
        "# Print the documentation portion of the response\n",
        "print(\"Documentation:\\n\")\n",
        "print(about_req.json()['documentation'])"
      ],
      "execution_count": 42,
      "outputs": [
        {
          "output_type": "stream",
          "text": [
            "Full response:\n",
            "\n",
            "{'code': 200, 'documentation': 'SwaggerUI interface available at <https://api-dot-isb-cgc.appspot.com/v4/swagger/>.Documentation available at <https://isb-cancer-genomics-cloud.readthedocs.io/en/latest/sections/progapi/Programmatic-API.html>', 'message': 'Welcome to the ISB-CGC API, Version 4.'}\n",
            "\n",
            "Message:\n",
            "\n",
            "Welcome to the ISB-CGC API, Version 4.\n",
            "\n",
            "Documentation:\n",
            "\n",
            "SwaggerUI interface available at <https://api-dot-isb-cgc.appspot.com/v4/swagger/>.Documentation available at <https://isb-cancer-genomics-cloud.readthedocs.io/en/latest/sections/progapi/Programmatic-API.html>\n"
          ],
          "name": "stdout"
        }
      ]
    },
    {
      "cell_type": "markdown",
      "metadata": {
        "colab_type": "text",
        "id": "aNaUuDSGhKHC"
      },
      "source": [
        "That wasn't difficult at all! Next we will cover a few of the other information APIs."
      ]
    },
    {
      "cell_type": "markdown",
      "metadata": {
        "id": "2VYM2_WINzTo",
        "colab_type": "text"
      },
      "source": [
        "## Example: `programs` Endpoint"
      ]
    },
    {
      "cell_type": "markdown",
      "metadata": {
        "id": "P20YZDWB1wrr",
        "colab_type": "text"
      },
      "source": [
        "The `programs` Endpoint is designed to return the data sets and programs available on the WebApp along with the projects or studies that are within those data sets and programs. This endpoint returns a more complicated JSON object which has a combination of lists and dictionaries. We will first retrieve the request and then view if there was an error code within the response."
      ]
    },
    {
      "cell_type": "code",
      "metadata": {
        "id": "TqrOUl65zPEj",
        "colab_type": "code",
        "colab": {}
      },
      "source": [
        "# Retrieve the response from the API endpoint\n",
        "programs_req = requests.get('https://api-dot-isb-cgc.appspot.com/v4/programs')\n",
        "\n",
        "# Check that the wasn't an error with the request\n",
        "if programs_req.status_code != 200:\n",
        "  # Print the error code if something went wrong\n",
        "  print(programs_req.status_code)"
      ],
      "execution_count": 0,
      "outputs": []
    },
    {
      "cell_type": "markdown",
      "metadata": {
        "id": "Wox-rs9Grxqc",
        "colab_type": "text"
      },
      "source": [
        "We are going to use the library `json` in order to view the response more easily.\n"
      ]
    },
    {
      "cell_type": "code",
      "metadata": {
        "id": "MAzFxZvdzugs",
        "colab_type": "code",
        "outputId": "d7ae7ffc-8518-4352-952b-4b5ef22da33b",
        "colab": {
          "base_uri": "https://localhost:8080/",
          "height": 1000
        }
      },
      "source": [
        "# install pip json\n",
        "import json\n",
        "\n",
        "# Create a variable with the JSON output\n",
        "program_json = json.dumps(programs_req.json(), sort_keys=True, indent=4)\n",
        "\n",
        "# Print the program JSON text\n",
        "print(program_json)"
      ],
      "execution_count": 44,
      "outputs": [
        {
          "output_type": "stream",
          "text": [
            "{\n",
            "    \"code\": 200,\n",
            "    \"data\": [\n",
            "        {\n",
            "            \"description\": null,\n",
            "            \"name\": \"TCGA\",\n",
            "            \"projects\": [\n",
            "                {\n",
            "                    \"description\": null,\n",
            "                    \"name\": \"ACC\"\n",
            "                },\n",
            "                {\n",
            "                    \"description\": null,\n",
            "                    \"name\": \"DLBC\"\n",
            "                },\n",
            "                {\n",
            "                    \"description\": null,\n",
            "                    \"name\": \"READ\"\n",
            "                },\n",
            "                {\n",
            "                    \"description\": null,\n",
            "                    \"name\": \"GBM\"\n",
            "                },\n",
            "                {\n",
            "                    \"description\": null,\n",
            "                    \"name\": \"LGG\"\n",
            "                },\n",
            "                {\n",
            "                    \"description\": null,\n",
            "                    \"name\": \"THCA\"\n",
            "                },\n",
            "                {\n",
            "                    \"description\": null,\n",
            "                    \"name\": \"STAD\"\n",
            "                },\n",
            "                {\n",
            "                    \"description\": null,\n",
            "                    \"name\": \"UCEC\"\n",
            "                },\n",
            "                {\n",
            "                    \"description\": null,\n",
            "                    \"name\": \"PCPG\"\n",
            "                },\n",
            "                {\n",
            "                    \"description\": null,\n",
            "                    \"name\": \"CESC\"\n",
            "                },\n",
            "                {\n",
            "                    \"description\": null,\n",
            "                    \"name\": \"UCS\"\n",
            "                },\n",
            "                {\n",
            "                    \"description\": null,\n",
            "                    \"name\": \"TGCT\"\n",
            "                },\n",
            "                {\n",
            "                    \"description\": null,\n",
            "                    \"name\": \"LIHC\"\n",
            "                },\n",
            "                {\n",
            "                    \"description\": null,\n",
            "                    \"name\": \"CHOL\"\n",
            "                },\n",
            "                {\n",
            "                    \"description\": null,\n",
            "                    \"name\": \"HNSC\"\n",
            "                },\n",
            "                {\n",
            "                    \"description\": null,\n",
            "                    \"name\": \"UVM\"\n",
            "                },\n",
            "                {\n",
            "                    \"description\": null,\n",
            "                    \"name\": \"SKCM\"\n",
            "                },\n",
            "                {\n",
            "                    \"description\": null,\n",
            "                    \"name\": \"COAD\"\n",
            "                },\n",
            "                {\n",
            "                    \"description\": null,\n",
            "                    \"name\": \"PAAD\"\n",
            "                },\n",
            "                {\n",
            "                    \"description\": null,\n",
            "                    \"name\": \"THYM\"\n",
            "                },\n",
            "                {\n",
            "                    \"description\": null,\n",
            "                    \"name\": \"LUSC\"\n",
            "                },\n",
            "                {\n",
            "                    \"description\": null,\n",
            "                    \"name\": \"MESO\"\n",
            "                },\n",
            "                {\n",
            "                    \"description\": null,\n",
            "                    \"name\": \"OV\"\n",
            "                },\n",
            "                {\n",
            "                    \"description\": null,\n",
            "                    \"name\": \"ESCA\"\n",
            "                },\n",
            "                {\n",
            "                    \"description\": null,\n",
            "                    \"name\": \"SARC\"\n",
            "                },\n",
            "                {\n",
            "                    \"description\": null,\n",
            "                    \"name\": \"KIRP\"\n",
            "                },\n",
            "                {\n",
            "                    \"description\": null,\n",
            "                    \"name\": \"BLCA\"\n",
            "                },\n",
            "                {\n",
            "                    \"description\": null,\n",
            "                    \"name\": \"LAML\"\n",
            "                },\n",
            "                {\n",
            "                    \"description\": null,\n",
            "                    \"name\": \"PRAD\"\n",
            "                },\n",
            "                {\n",
            "                    \"description\": null,\n",
            "                    \"name\": \"LUAD\"\n",
            "                },\n",
            "                {\n",
            "                    \"description\": null,\n",
            "                    \"name\": \"BRCA\"\n",
            "                },\n",
            "                {\n",
            "                    \"description\": null,\n",
            "                    \"name\": \"KIRC\"\n",
            "                },\n",
            "                {\n",
            "                    \"description\": null,\n",
            "                    \"name\": \"KICH\"\n",
            "                }\n",
            "            ]\n",
            "        },\n",
            "        {\n",
            "            \"description\": null,\n",
            "            \"name\": \"CCLE\",\n",
            "            \"projects\": [\n",
            "                {\n",
            "                    \"description\": \"Controls\",\n",
            "                    \"name\": \"CNTL\"\n",
            "                },\n",
            "                {\n",
            "                    \"description\": \"FFPE Pilot Phase II\",\n",
            "                    \"name\": \"FPPP\"\n",
            "                },\n",
            "                {\n",
            "                    \"description\": \"Sarcoma\",\n",
            "                    \"name\": \"SARC\"\n",
            "                },\n",
            "                {\n",
            "                    \"description\": \"Skin Cutaneous Melanoma\",\n",
            "                    \"name\": \"SKCM\"\n",
            "                },\n",
            "                {\n",
            "                    \"description\": \"Mesothelioma\",\n",
            "                    \"name\": \"MESO\"\n",
            "                },\n",
            "                {\n",
            "                    \"description\": \"Acute Myeloid Leukemia\",\n",
            "                    \"name\": \"LAML\"\n",
            "                },\n",
            "                {\n",
            "                    \"description\": \"Pheochromocytoma and Paraganglioma\",\n",
            "                    \"name\": \"PCPG\"\n",
            "                },\n",
            "                {\n",
            "                    \"description\": \"Prostate Adenocarcinoma\",\n",
            "                    \"name\": \"PRAD\"\n",
            "                },\n",
            "                {\n",
            "                    \"description\": \"Kidney Renal Clear Cell Carcinoma\",\n",
            "                    \"name\": \"KIRC\"\n",
            "                },\n",
            "                {\n",
            "                    \"description\": \"Esophageal Carcinoma\",\n",
            "                    \"name\": \"ESCA\"\n",
            "                },\n",
            "                {\n",
            "                    \"description\": \"Brain Lower Grade Glioma\",\n",
            "                    \"name\": \"LGG\"\n",
            "                },\n",
            "                {\n",
            "                    \"description\": \"Lung Adenocarcinoma\",\n",
            "                    \"name\": \"LUAD\"\n",
            "                },\n",
            "                {\n",
            "                    \"description\": \"Pancreatic Adenocarcinoma\",\n",
            "                    \"name\": \"PAAD\"\n",
            "                },\n",
            "                {\n",
            "                    \"description\": \"Kidney Chromophobe\",\n",
            "                    \"name\": \"KICH\"\n",
            "                },\n",
            "                {\n",
            "                    \"description\": \"Chronic Lymphocytic Leukemia\",\n",
            "                    \"name\": \"LCLL\"\n",
            "                },\n",
            "                {\n",
            "                    \"description\": \"Kidney Renal Papillary Cell Carcinoma\",\n",
            "                    \"name\": \"KIRP\"\n",
            "                },\n",
            "                {\n",
            "                    \"description\": \"Glioblastoma Multiforme\",\n",
            "                    \"name\": \"GBM\"\n",
            "                },\n",
            "                {\n",
            "                    \"description\": \"Miscellaneous\",\n",
            "                    \"name\": \"MISC\"\n",
            "                },\n",
            "                {\n",
            "                    \"description\": \"Lung Squamous Cell Carcinoma\",\n",
            "                    \"name\": \"LUSC\"\n",
            "                },\n",
            "                {\n",
            "                    \"description\": \"Thymoma\",\n",
            "                    \"name\": \"THYM\"\n",
            "                },\n",
            "                {\n",
            "                    \"description\": \"Head and Neck Squamous Cell Carcinoma\",\n",
            "                    \"name\": \"HNSC\"\n",
            "                },\n",
            "                {\n",
            "                    \"description\": \"Testicular Germ Cell Tumors\",\n",
            "                    \"name\": \"TGCT\"\n",
            "                },\n",
            "                {\n",
            "                    \"description\": \"Bladder Urothelial Carcinoma\",\n",
            "                    \"name\": \"BLCA\"\n",
            "                },\n",
            "                {\n",
            "                    \"description\": \"Thyroid Carcinoma\",\n",
            "                    \"name\": \"THCA\"\n",
            "                },\n",
            "                {\n",
            "                    \"description\": \"Uterine Carcinosarcoma\",\n",
            "                    \"name\": \"UCS\"\n",
            "                },\n",
            "                {\n",
            "                    \"description\": \"Cholangiocarcinoma\",\n",
            "                    \"name\": \"CHOL\"\n",
            "                },\n",
            "                {\n",
            "                    \"description\": \"Multiple Myeloma\",\n",
            "                    \"name\": \"MM\"\n",
            "                },\n",
            "                {\n",
            "                    \"description\": \"Breast Invasive Carcinoma\",\n",
            "                    \"name\": \"BRCA\"\n",
            "                },\n",
            "                {\n",
            "                    \"description\": \"Cervical Squamous Cell Carcinoma and Endocervical Adenocarcinoma\",\n",
            "                    \"name\": \"CESC\"\n",
            "                },\n",
            "                {\n",
            "                    \"description\": \"Lymphoid Neoplasm Diffuse Large B-cell Lymphoma\",\n",
            "                    \"name\": \"DLBC\"\n",
            "                },\n",
            "                {\n",
            "                    \"description\": \"Uveal Melanoma\",\n",
            "                    \"name\": \"UVM\"\n",
            "                },\n",
            "                {\n",
            "                    \"description\": \"Liver Hepatocellular Carcinoma\",\n",
            "                    \"name\": \"LIHC\"\n",
            "                },\n",
            "                {\n",
            "                    \"description\": \"Colon Adenocarcinoma\",\n",
            "                    \"name\": \"COAD\"\n",
            "                },\n",
            "                {\n",
            "                    \"description\": \"Rectum Adenocarcinoma\",\n",
            "                    \"name\": \"READ\"\n",
            "                },\n",
            "                {\n",
            "                    \"description\": \"Uterine Corpus Endometrial Carcinoma\",\n",
            "                    \"name\": \"UCEC\"\n",
            "                },\n",
            "                {\n",
            "                    \"description\": \"Ovarian Serous Cystadenocarcinoma\",\n",
            "                    \"name\": \"OV\"\n",
            "                },\n",
            "                {\n",
            "                    \"description\": \"Stomach Adenocarcinoma\",\n",
            "                    \"name\": \"STAD\"\n",
            "                },\n",
            "                {\n",
            "                    \"description\": \"Adrenocortical Carcinoma\",\n",
            "                    \"name\": \"ACC\"\n",
            "                },\n",
            "                {\n",
            "                    \"description\": \"Chronic Myelogenous Leukemia\",\n",
            "                    \"name\": \"LCML\"\n",
            "                }\n",
            "            ]\n",
            "        },\n",
            "        {\n",
            "            \"description\": null,\n",
            "            \"name\": \"TARGET\",\n",
            "            \"projects\": [\n",
            "                {\n",
            "                    \"description\": \"Rhabdoid Tumor\",\n",
            "                    \"name\": \"RT\"\n",
            "                },\n",
            "                {\n",
            "                    \"description\": \"Neuroblastoma\",\n",
            "                    \"name\": \"NBL\"\n",
            "                },\n",
            "                {\n",
            "                    \"description\": \"Clear Cell Sarcoma of the Kidney\",\n",
            "                    \"name\": \"CCSK\"\n",
            "                },\n",
            "                {\n",
            "                    \"description\": \"High-Risk Wilms Tumor\",\n",
            "                    \"name\": \"WT\"\n",
            "                },\n",
            "                {\n",
            "                    \"description\": \"Osteosarcoma\",\n",
            "                    \"name\": \"OS\"\n",
            "                },\n",
            "                {\n",
            "                    \"description\": \"Acute Lymphoblastic Leukemia - Phase II\",\n",
            "                    \"name\": \"ALL-P2\"\n",
            "                },\n",
            "                {\n",
            "                    \"description\": \"Acute Lymphoblastic Leukemia - Phase I\",\n",
            "                    \"name\": \"ALL-P1\"\n",
            "                },\n",
            "                {\n",
            "                    \"description\": \"Acute Myeloid Leukemia\",\n",
            "                    \"name\": \"AML\"\n",
            "                }\n",
            "            ]\n",
            "        }\n",
            "    ]\n",
            "}\n"
          ],
          "name": "stdout"
        }
      ]
    },
    {
      "cell_type": "markdown",
      "metadata": {
        "id": "D0pxiO6TtklT",
        "colab_type": "text"
      },
      "source": [
        "We can now see easily that our information that we are interested in is a combination of a dictionaries and lists. Next we will we will iterate over the JSON object to neatly return the data sets/programs along with which projects/studies are available."
      ]
    },
    {
      "cell_type": "code",
      "metadata": {
        "id": "OmM4GKs_u6w3",
        "colab_type": "code",
        "outputId": "1346afed-2544-4767-bb21-94bceee897fe",
        "colab": {
          "base_uri": "https://localhost:8080/",
          "height": 68
        }
      },
      "source": [
        "# Create a variable with the dataset information\n",
        "datasets = programs_req.json()['data']\n",
        "\n",
        "# Create an empty dictionary for the program names\n",
        "programs = {}\n",
        "\n",
        "# For each dataset, create a list of available programs and add it to the\n",
        "# dictionary with the dataset name.\n",
        "for data in datasets:\n",
        "  # Create a blank list for the projects\n",
        "  projects = []\n",
        "  # for each project, add it to the list of projects for the data set\n",
        "  for project in data['projects']:\n",
        "    projects.append(project['name'])\n",
        "  # Add the program name and list of projects to the dictionary\n",
        "  programs[data['name']] = projects\n",
        "  # Print the name of the program and the number of projects available\n",
        "  print(\"The {} program has {} projects.\".format(data['name'], len(projects)))"
      ],
      "execution_count": 45,
      "outputs": [
        {
          "output_type": "stream",
          "text": [
            "The TCGA program has 33 projects.\n",
            "The CCLE program has 39 projects.\n",
            "The TARGET program has 8 projects.\n"
          ],
          "name": "stdout"
        }
      ]
    },
    {
      "cell_type": "markdown",
      "metadata": {
        "id": "LzjPrdYi0XkV",
        "colab_type": "text"
      },
      "source": [
        "We now have an easy dictionary of programs with lists of the projects for each program. Let us look at which projects are available in the TCGA data set."
      ]
    },
    {
      "cell_type": "code",
      "metadata": {
        "id": "or-yCoRW1D1K",
        "colab_type": "code",
        "outputId": "d0d5501b-bd65-449d-c38c-852eb9ff2a2a",
        "colab": {
          "base_uri": "https://localhost:8080/",
          "height": 578
        }
      },
      "source": [
        "for project in programs['TCGA']:\n",
        "  print(project)"
      ],
      "execution_count": 46,
      "outputs": [
        {
          "output_type": "stream",
          "text": [
            "ACC\n",
            "DLBC\n",
            "READ\n",
            "GBM\n",
            "LGG\n",
            "THCA\n",
            "STAD\n",
            "UCEC\n",
            "PCPG\n",
            "CESC\n",
            "UCS\n",
            "TGCT\n",
            "LIHC\n",
            "CHOL\n",
            "HNSC\n",
            "UVM\n",
            "SKCM\n",
            "COAD\n",
            "PAAD\n",
            "THYM\n",
            "LUSC\n",
            "MESO\n",
            "OV\n",
            "ESCA\n",
            "SARC\n",
            "KIRP\n",
            "BLCA\n",
            "LAML\n",
            "PRAD\n",
            "LUAD\n",
            "BRCA\n",
            "KIRC\n",
            "KICH\n"
          ],
          "name": "stdout"
        }
      ]
    },
    {
      "cell_type": "markdown",
      "metadata": {
        "id": "Xu_qEvqJ1gAW",
        "colab_type": "text"
      },
      "source": [
        "Wow, that is a lot of projects/studies available within the TCGA data set. Descriptions of the different data sets and programs can be found in our [documentation](https://isb-cancer-genomics-cloud.readthedocs.io/en/latest/sections/Hosted-Data.html)."
      ]
    },
    {
      "cell_type": "markdown",
      "metadata": {
        "id": "5nP_GUuhN1m3",
        "colab_type": "text"
      },
      "source": [
        "## Example: `cohort` Endpoint\n",
        "\n",
        "This last section will cover the get `cohorts` Endpoint which requires authorization before submitting the request to the API. This endpoint retrieves information about user generated cohorts from within the WebApp or with the ISB-CGC API. "
      ]
    },
    {
      "cell_type": "markdown",
      "metadata": {
        "id": "jMu18sE11tvk",
        "colab_type": "text"
      },
      "source": [
        "### Notes on Authorization and Credentials\n",
        "In order to use several of the ISB-CGC APIs, you need have authorization with ISB-CGC.\n",
        "\n",
        "The following steps are required to use an API that Requires Authorization:\n",
        "\n",
        "1. Create Google Cloud Project set up*\n",
        "2. Register with the ISB-CGC WebApp*\n",
        "3. Create a Creditial File on your local machine by using the [isb_auth.py script](https://github.com/isb-cgc/ISB-CGC-API/blob/master/scripts/isb_auth.py) from the [ISB-CGC-API Repository](https://github.com/isb-cgc/ISB-CGC-API)\n",
        "  * This script can be run from the command line or from within python but has to occur on your local machine.\n",
        "4. Find the location of the Credential File on your local machine\n",
        "  * By default, it will save the file in the users folder of your local machine with the file name: \".isb_credentials\"\n",
        "5. Load the Credential file into the cloud environment you are using (if needed)"
      ]
    },
    {
      "cell_type": "code",
      "metadata": {
        "id": "B-QyDYmiXbs1",
        "colab_type": "code",
        "outputId": "071e4a38-f773-4f24-f9bc-e1f17bedcace",
        "colab": {
          "resources": {
            "http://localhost:8080/nbextensions/google.colab/files.js": {
              "data": "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",
              "ok": true,
              "headers": [
                [
                  "content-type",
                  "application/javascript"
                ]
              ],
              "status": 200,
              "status_text": ""
            }
          },
          "base_uri": "https://localhost:8080/",
          "height": 40
        }
      },
      "source": [
        "# Use this to upload your credentials to the cloud environment if needed\n",
        "from google.colab import files\n",
        "uploaded = files.upload()"
      ],
      "execution_count": 47,
      "outputs": [
        {
          "output_type": "display_data",
          "data": {
            "text/html": [
              "\n",
              "     <input type=\"file\" id=\"files-cffcf6ae-d255-46da-8303-ef2a85875a73\" name=\"files[]\" multiple disabled />\n",
              "     <output id=\"result-cffcf6ae-d255-46da-8303-ef2a85875a73\">\n",
              "      Upload widget is only available when the cell has been executed in the\n",
              "      current browser session. Please rerun this cell to enable.\n",
              "      </output>\n",
              "      <script src=\"/nbextensions/google.colab/files.js\"></script> "
            ],
            "text/plain": [
              "<IPython.core.display.HTML object>"
            ]
          },
          "metadata": {
            "tags": []
          }
        }
      ]
    },
    {
      "cell_type": "markdown",
      "metadata": {
        "id": "O9nD45o_KV3S",
        "colab_type": "text"
      },
      "source": [
        "Now that we have the Credentials file created and uploaded to the cloud environment, we can open the file to create the header information need for the API to verify that you have Authorization."
      ]
    },
    {
      "cell_type": "code",
      "metadata": {
        "id": "3EeeApmTWJh8",
        "colab_type": "code",
        "colab": {}
      },
      "source": [
        "# Open the credentials file\n",
        "token = open(\".isb_credentials\", \"r\")\n",
        "# Create a json object from teh credential file\n",
        "token = json.loads(token.read())\n",
        "# Get Credentials from the token\n",
        "creds = token['token_response']['id_token']\n",
        "# Create a json object for requests header\n",
        "head = {'Authorization': 'Bearer ' + creds}"
      ],
      "execution_count": 0,
      "outputs": []
    },
    {
      "cell_type": "markdown",
      "metadata": {
        "id": "7W1A74r9KEx4",
        "colab_type": "text"
      },
      "source": [
        "**Note:** the credentials file will expire after 1 hour and a new one will need to be generated. If a new file is not generated with the isb_auth script, you can delete the original file and try running the script again.\n",
        "\n",
        "If you are having any issues, you can contact us at feedback@isb-cgc.org\n",
        "\n",
        "*The 'Quick Start Guide to ISB-CGC' Notebook in the [Community Notebook Repository](https://github.com/isb-cgc/Community-Notebooks/tree/master/Notebooks) and the [How to Get Started on ISB-CGC](https://isb-cancer-genomics-cloud.readthedocs.io/en/latest/sections/HowToGetStartedonISB-CGC.html) can assist you with these steps."
      ]
    },
    {
      "cell_type": "markdown",
      "metadata": {
        "id": "oppOXZKjL_It",
        "colab_type": "text"
      },
      "source": [
        "Finally, we can make a `get` request to the `cohorts` ISB-CGC API.\n",
        "\n"
      ]
    },
    {
      "cell_type": "code",
      "metadata": {
        "id": "DRF4T41SgAIm",
        "colab_type": "code",
        "colab": {}
      },
      "source": [
        "# Make API request\n",
        "cohort_req = requests.get('https://mvm-api-dot-isb-cgc.appspot.com/v4/cohorts', headers=head)"
      ],
      "execution_count": 0,
      "outputs": []
    },
    {
      "cell_type": "markdown",
      "metadata": {
        "id": "vr_ECKLPMSqU",
        "colab_type": "text"
      },
      "source": [
        "Now we can format the response for easy view and view it."
      ]
    },
    {
      "cell_type": "code",
      "metadata": {
        "id": "3Psin-zKwWEf",
        "colab_type": "code",
        "outputId": "b67491db-99fa-436b-f8d4-14625adafa64",
        "colab": {
          "base_uri": "https://localhost:8080/",
          "height": 935
        }
      },
      "source": [
        "cohorts_json = json.dumps(cohort_req.json(), sort_keys=True, indent=4)\n",
        "print(cohorts_json)"
      ],
      "execution_count": 50,
      "outputs": [
        {
          "output_type": "stream",
          "text": [
            "{\n",
            "    \"code\": 200,\n",
            "    \"data\": [\n",
            "        {\n",
            "            \"filters\": {\n",
            "                \"TCGA\": [\n",
            "                    {\n",
            "                        \"name\": \"disease_code\",\n",
            "                        \"program\": \"TCGA\",\n",
            "                        \"value\": \"SKCM\"\n",
            "                    },\n",
            "                    {\n",
            "                        \"name\": \"sample_type\",\n",
            "                        \"program\": \"TCGA\",\n",
            "                        \"value\": \"10\"\n",
            "                    }\n",
            "                ]\n",
            "            },\n",
            "            \"id\": 1538,\n",
            "            \"name\": \"Test\",\n",
            "            \"permission\": \"OWNER\"\n",
            "        },\n",
            "        {\n",
            "            \"filters\": {},\n",
            "            \"id\": 1,\n",
            "            \"name\": \"All TCGA Data\",\n",
            "            \"permission\": \"READER\"\n",
            "        },\n",
            "        {\n",
            "            \"filters\": {\n",
            "                \"CCLE\": [\n",
            "                    {\n",
            "                        \"name\": \"gender\",\n",
            "                        \"program\": \"CCLE\",\n",
            "                        \"value\": \"Female\"\n",
            "                    },\n",
            "                    {\n",
            "                        \"name\": \"site_primary\",\n",
            "                        \"program\": \"CCLE\",\n",
            "                        \"value\": \"ovary\"\n",
            "                    },\n",
            "                    {\n",
            "                        \"name\": \"hist_subtype\",\n",
            "                        \"program\": \"CCLE\",\n",
            "                        \"value\": \"mucinous_carcinoma\"\n",
            "                    }\n",
            "                ]\n",
            "            },\n",
            "            \"id\": 1539,\n",
            "            \"name\": \"Test 2\",\n",
            "            \"permission\": \"OWNER\"\n",
            "        }\n",
            "    ]\n",
            "}\n"
          ],
          "name": "stdout"
        }
      ]
    },
    {
      "cell_type": "markdown",
      "metadata": {
        "id": "OA4RtA8q9nle",
        "colab_type": "text"
      },
      "source": [
        "Then we can retrieve the contents of the response and view which cohorts have been created."
      ]
    },
    {
      "cell_type": "code",
      "metadata": {
        "id": "w6mAoLI-7vKE",
        "colab_type": "code",
        "colab": {
          "base_uri": "https://localhost:8080/",
          "height": 54
        },
        "outputId": "55c2c507-4ccd-44c6-b28f-836012f3686d"
      },
      "source": [
        "# Create a variable with the dataset information\n",
        "cohorts = cohort_req.json()['data']\n",
        "print(cohorts)"
      ],
      "execution_count": 51,
      "outputs": [
        {
          "output_type": "stream",
          "text": [
            "[{'filters': {'TCGA': [{'name': 'disease_code', 'program': 'TCGA', 'value': 'SKCM'}, {'name': 'sample_type', 'program': 'TCGA', 'value': '10'}]}, 'id': 1538, 'name': 'Test', 'permission': 'OWNER'}, {'filters': {}, 'id': 1, 'name': 'All TCGA Data', 'permission': 'READER'}, {'filters': {'CCLE': [{'name': 'gender', 'program': 'CCLE', 'value': 'Female'}, {'name': 'site_primary', 'program': 'CCLE', 'value': 'ovary'}, {'name': 'hist_subtype', 'program': 'CCLE', 'value': 'mucinous_carcinoma'}]}, 'id': 1539, 'name': 'Test 2', 'permission': 'OWNER'}]\n"
          ],
          "name": "stdout"
        }
      ]
    },
    {
      "cell_type": "markdown",
      "metadata": {
        "id": "GjMDyygr9oUG",
        "colab_type": "text"
      },
      "source": [
        "We can then see what filters were applied by choosing the number of the cohort you wish to see."
      ]
    },
    {
      "cell_type": "code",
      "metadata": {
        "id": "-hPy2Oqf8GaU",
        "colab_type": "code",
        "colab": {
          "base_uri": "https://localhost:8080/",
          "height": 68
        },
        "outputId": "9cd3042b-bcd7-4141-9643-37345914154a"
      },
      "source": [
        "# View the names of the cohorts\n",
        "for k in cohorts:\n",
        "    print(k['name'])"
      ],
      "execution_count": 52,
      "outputs": [
        {
          "output_type": "stream",
          "text": [
            "Test\n",
            "All TCGA Data\n",
            "Test 2\n"
          ],
          "name": "stdout"
        }
      ]
    },
    {
      "cell_type": "code",
      "metadata": {
        "id": "hlQ6kj3y8clI",
        "colab_type": "code",
        "colab": {
          "base_uri": "https://localhost:8080/",
          "height": 51
        },
        "outputId": "cbece04c-46e7-4ce0-c65d-4d5e6961953d"
      },
      "source": [
        "# View the filters that have been applied to the first cohort\n",
        "cohorts[0]['filters']"
      ],
      "execution_count": 53,
      "outputs": [
        {
          "output_type": "execute_result",
          "data": {
            "text/plain": [
              "{'TCGA': [{'name': 'disease_code', 'program': 'TCGA', 'value': 'SKCM'},\n",
              "  {'name': 'sample_type', 'program': 'TCGA', 'value': '10'}]}"
            ]
          },
          "metadata": {
            "tags": []
          },
          "execution_count": 53
        }
      ]
    }
  ]
}